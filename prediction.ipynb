{
 "cells": [
  {
   "cell_type": "code",
   "execution_count": 36,
   "metadata": {},
   "outputs": [],
   "source": [
    "# Step 1: Import Libraries and Load the Model\n",
    "import numpy as np\n",
    "import tensorflow as tf\n",
    "from tensorflow.keras.datasets import imdb\n",
    "from tensorflow.keras.preprocessing import sequence\n",
    "from tensorflow.keras.models import load_model"
   ]
  },
  {
   "cell_type": "code",
   "execution_count": 37,
   "metadata": {},
   "outputs": [],
   "source": [
    "\n",
    "# Load the IMDB dataset word index\n",
    "word_index = imdb.get_word_index()\n",
    "reverse_word_index = {value: key for key, value in word_index.items()}"
   ]
  },
  {
   "cell_type": "code",
   "execution_count": 38,
   "metadata": {},
   "outputs": [
    {
     "name": "stderr",
     "output_type": "stream",
     "text": [
      "WARNING:absl:Compiled the loaded model, but the compiled metrics have yet to be built. `model.compile_metrics` will be empty until you train or evaluate the model.\n"
     ]
    },
    {
     "data": {
      "text/html": [
       "<pre style=\"white-space:pre;overflow-x:auto;line-height:normal;font-family:Menlo,'DejaVu Sans Mono',consolas,'Courier New',monospace\"><span style=\"font-weight: bold\">Model: \"sequential\"</span>\n",
       "</pre>\n"
      ],
      "text/plain": [
       "\u001b[1mModel: \"sequential\"\u001b[0m\n"
      ]
     },
     "metadata": {},
     "output_type": "display_data"
    },
    {
     "data": {
      "text/html": [
       "<pre style=\"white-space:pre;overflow-x:auto;line-height:normal;font-family:Menlo,'DejaVu Sans Mono',consolas,'Courier New',monospace\">┏━━━━━━━━━━━━━━━━━━━━━━━━━━━━━━━━━┳━━━━━━━━━━━━━━━━━━━━━━━━┳━━━━━━━━━━━━━━━┓\n",
       "┃<span style=\"font-weight: bold\"> Layer (type)                    </span>┃<span style=\"font-weight: bold\"> Output Shape           </span>┃<span style=\"font-weight: bold\">       Param # </span>┃\n",
       "┡━━━━━━━━━━━━━━━━━━━━━━━━━━━━━━━━━╇━━━━━━━━━━━━━━━━━━━━━━━━╇━━━━━━━━━━━━━━━┩\n",
       "│ embedding (<span style=\"color: #0087ff; text-decoration-color: #0087ff\">Embedding</span>)           │ (<span style=\"color: #00d7ff; text-decoration-color: #00d7ff\">None</span>, <span style=\"color: #00af00; text-decoration-color: #00af00\">500</span>, <span style=\"color: #00af00; text-decoration-color: #00af00\">64</span>)        │       <span style=\"color: #00af00; text-decoration-color: #00af00\">640,000</span> │\n",
       "├─────────────────────────────────┼────────────────────────┼───────────────┤\n",
       "│ lstm (<span style=\"color: #0087ff; text-decoration-color: #0087ff\">LSTM</span>)                     │ (<span style=\"color: #00d7ff; text-decoration-color: #00d7ff\">None</span>, <span style=\"color: #00af00; text-decoration-color: #00af00\">64</span>)             │        <span style=\"color: #00af00; text-decoration-color: #00af00\">33,024</span> │\n",
       "├─────────────────────────────────┼────────────────────────┼───────────────┤\n",
       "│ dropout (<span style=\"color: #0087ff; text-decoration-color: #0087ff\">Dropout</span>)               │ (<span style=\"color: #00d7ff; text-decoration-color: #00d7ff\">None</span>, <span style=\"color: #00af00; text-decoration-color: #00af00\">64</span>)             │             <span style=\"color: #00af00; text-decoration-color: #00af00\">0</span> │\n",
       "├─────────────────────────────────┼────────────────────────┼───────────────┤\n",
       "│ dense (<span style=\"color: #0087ff; text-decoration-color: #0087ff\">Dense</span>)                   │ (<span style=\"color: #00d7ff; text-decoration-color: #00d7ff\">None</span>, <span style=\"color: #00af00; text-decoration-color: #00af00\">1</span>)              │            <span style=\"color: #00af00; text-decoration-color: #00af00\">65</span> │\n",
       "└─────────────────────────────────┴────────────────────────┴───────────────┘\n",
       "</pre>\n"
      ],
      "text/plain": [
       "┏━━━━━━━━━━━━━━━━━━━━━━━━━━━━━━━━━┳━━━━━━━━━━━━━━━━━━━━━━━━┳━━━━━━━━━━━━━━━┓\n",
       "┃\u001b[1m \u001b[0m\u001b[1mLayer (type)                   \u001b[0m\u001b[1m \u001b[0m┃\u001b[1m \u001b[0m\u001b[1mOutput Shape          \u001b[0m\u001b[1m \u001b[0m┃\u001b[1m \u001b[0m\u001b[1m      Param #\u001b[0m\u001b[1m \u001b[0m┃\n",
       "┡━━━━━━━━━━━━━━━━━━━━━━━━━━━━━━━━━╇━━━━━━━━━━━━━━━━━━━━━━━━╇━━━━━━━━━━━━━━━┩\n",
       "│ embedding (\u001b[38;5;33mEmbedding\u001b[0m)           │ (\u001b[38;5;45mNone\u001b[0m, \u001b[38;5;34m500\u001b[0m, \u001b[38;5;34m64\u001b[0m)        │       \u001b[38;5;34m640,000\u001b[0m │\n",
       "├─────────────────────────────────┼────────────────────────┼───────────────┤\n",
       "│ lstm (\u001b[38;5;33mLSTM\u001b[0m)                     │ (\u001b[38;5;45mNone\u001b[0m, \u001b[38;5;34m64\u001b[0m)             │        \u001b[38;5;34m33,024\u001b[0m │\n",
       "├─────────────────────────────────┼────────────────────────┼───────────────┤\n",
       "│ dropout (\u001b[38;5;33mDropout\u001b[0m)               │ (\u001b[38;5;45mNone\u001b[0m, \u001b[38;5;34m64\u001b[0m)             │             \u001b[38;5;34m0\u001b[0m │\n",
       "├─────────────────────────────────┼────────────────────────┼───────────────┤\n",
       "│ dense (\u001b[38;5;33mDense\u001b[0m)                   │ (\u001b[38;5;45mNone\u001b[0m, \u001b[38;5;34m1\u001b[0m)              │            \u001b[38;5;34m65\u001b[0m │\n",
       "└─────────────────────────────────┴────────────────────────┴───────────────┘\n"
      ]
     },
     "metadata": {},
     "output_type": "display_data"
    },
    {
     "data": {
      "text/html": [
       "<pre style=\"white-space:pre;overflow-x:auto;line-height:normal;font-family:Menlo,'DejaVu Sans Mono',consolas,'Courier New',monospace\"><span style=\"font-weight: bold\"> Total params: </span><span style=\"color: #00af00; text-decoration-color: #00af00\">673,091</span> (2.57 MB)\n",
       "</pre>\n"
      ],
      "text/plain": [
       "\u001b[1m Total params: \u001b[0m\u001b[38;5;34m673,091\u001b[0m (2.57 MB)\n"
      ]
     },
     "metadata": {},
     "output_type": "display_data"
    },
    {
     "data": {
      "text/html": [
       "<pre style=\"white-space:pre;overflow-x:auto;line-height:normal;font-family:Menlo,'DejaVu Sans Mono',consolas,'Courier New',monospace\"><span style=\"font-weight: bold\"> Trainable params: </span><span style=\"color: #00af00; text-decoration-color: #00af00\">673,089</span> (2.57 MB)\n",
       "</pre>\n"
      ],
      "text/plain": [
       "\u001b[1m Trainable params: \u001b[0m\u001b[38;5;34m673,089\u001b[0m (2.57 MB)\n"
      ]
     },
     "metadata": {},
     "output_type": "display_data"
    },
    {
     "data": {
      "text/html": [
       "<pre style=\"white-space:pre;overflow-x:auto;line-height:normal;font-family:Menlo,'DejaVu Sans Mono',consolas,'Courier New',monospace\"><span style=\"font-weight: bold\"> Non-trainable params: </span><span style=\"color: #00af00; text-decoration-color: #00af00\">0</span> (0.00 B)\n",
       "</pre>\n"
      ],
      "text/plain": [
       "\u001b[1m Non-trainable params: \u001b[0m\u001b[38;5;34m0\u001b[0m (0.00 B)\n"
      ]
     },
     "metadata": {},
     "output_type": "display_data"
    },
    {
     "data": {
      "text/html": [
       "<pre style=\"white-space:pre;overflow-x:auto;line-height:normal;font-family:Menlo,'DejaVu Sans Mono',consolas,'Courier New',monospace\"><span style=\"font-weight: bold\"> Optimizer params: </span><span style=\"color: #00af00; text-decoration-color: #00af00\">2</span> (12.00 B)\n",
       "</pre>\n"
      ],
      "text/plain": [
       "\u001b[1m Optimizer params: \u001b[0m\u001b[38;5;34m2\u001b[0m (12.00 B)\n"
      ]
     },
     "metadata": {},
     "output_type": "display_data"
    }
   ],
   "source": [
    "# Load the pre-trained model with ReLU activation\n",
    "model = load_model('lstmRNN.h5')\n",
    "model.summary()"
   ]
  },
  {
   "cell_type": "code",
   "execution_count": 39,
   "metadata": {},
   "outputs": [
    {
     "data": {
      "text/plain": [
       "[array([[ 0.03330063, -0.00598879, -0.10242025, ..., -0.0528866 ,\n",
       "         -0.06143292, -0.02434476],\n",
       "        [ 0.04082884,  0.00988641, -0.04217435, ...,  0.01937087,\n",
       "          0.03110271, -0.0194758 ],\n",
       "        [-0.02787226, -0.00500327, -0.01758428, ...,  0.03763495,\n",
       "         -0.04149608,  0.02888706],\n",
       "        ...,\n",
       "        [ 0.01922808, -0.06591232,  0.05679618, ...,  0.01848593,\n",
       "          0.03138251,  0.06018983],\n",
       "        [ 0.05689093,  0.06361598,  0.00615583, ...,  0.06670405,\n",
       "         -0.0402867 , -0.06550442],\n",
       "        [-0.03184599, -0.08896951,  0.05467804, ..., -0.0493419 ,\n",
       "          0.08147377,  0.01800362]], dtype=float32),\n",
       " array([[-0.06341292, -0.12695487, -0.07192377, ...,  0.08089653,\n",
       "         -0.07585791,  0.03833175],\n",
       "        [ 0.08068316, -0.00117504,  0.01750609, ..., -0.06868054,\n",
       "         -0.11354021,  0.09994382],\n",
       "        [-0.10746035,  0.18342422,  0.00178112, ...,  0.10046273,\n",
       "          0.098165  ,  0.01685768],\n",
       "        ...,\n",
       "        [ 0.01116529, -0.12130319,  0.0476709 , ..., -0.07966805,\n",
       "          0.04177372,  0.05880284],\n",
       "        [ 0.04944945, -0.05108456, -0.00034537, ...,  0.17996266,\n",
       "          0.14624554, -0.10673254],\n",
       "        [-0.02159126,  0.0955015 ,  0.05505528, ...,  0.1155602 ,\n",
       "         -0.02060739, -0.18795688]], dtype=float32),\n",
       " array([[ 0.07561472, -0.09657556, -0.13647215, ...,  0.08453122,\n",
       "          0.111932  , -0.01188723],\n",
       "        [ 0.13064909, -0.03253509,  0.04790247, ..., -0.07960515,\n",
       "         -0.0794    ,  0.02182465],\n",
       "        [ 0.03029678, -0.07101335, -0.08770032, ...,  0.01841692,\n",
       "         -0.11256021, -0.04342707],\n",
       "        ...,\n",
       "        [ 0.01193672,  0.01934862, -0.03027788, ...,  0.01234924,\n",
       "          0.00374399,  0.03183567],\n",
       "        [-0.05063457,  0.01263608, -0.01794846, ...,  0.11250394,\n",
       "          0.04021034,  0.0080617 ],\n",
       "        [ 0.02687389,  0.05836756,  0.06948967, ..., -0.12568007,\n",
       "         -0.06352175,  0.05060899]], dtype=float32),\n",
       " array([ 9.84365866e-03,  2.27268133e-02,  1.25651387e-03,  4.99948999e-03,\n",
       "         9.07520112e-03,  1.96980163e-02,  4.21259273e-03,  1.96443535e-02,\n",
       "         1.69810485e-02,  9.95408278e-03,  2.64010322e-03,  2.07563844e-02,\n",
       "        -2.96363253e-02,  1.42798647e-02,  2.98577808e-02, -1.26443421e-02,\n",
       "         9.23749059e-03,  3.49851102e-02,  1.00545380e-02,  1.68901822e-03,\n",
       "         3.13644596e-05,  1.16668520e-02, -1.20171951e-02,  2.08337661e-02,\n",
       "         8.29651952e-03, -1.65363010e-02, -3.98765318e-03, -1.53984306e-02,\n",
       "         2.86079049e-02,  2.43816674e-02,  1.44340945e-02,  2.28701774e-02,\n",
       "         1.42356073e-02,  1.04873301e-02,  2.32983381e-02,  1.22494707e-02,\n",
       "         3.15991193e-02,  2.89643393e-03, -1.08492514e-02, -2.21472476e-02,\n",
       "         1.38990190e-02, -2.22174171e-02,  2.55038403e-02,  1.27839474e-02,\n",
       "        -4.75383066e-02,  9.18853935e-03,  4.26593162e-02,  7.48921931e-03,\n",
       "         1.79951079e-02,  8.65624566e-03,  2.30394565e-02,  9.44134593e-03,\n",
       "         2.10418552e-02, -1.94447506e-02,  3.35874967e-02,  1.57601386e-02,\n",
       "        -1.54539701e-02,  3.72657378e-05, -1.42390449e-02,  2.48089805e-02,\n",
       "         2.67471708e-02,  1.64317191e-02,  1.01760607e-02,  1.43486485e-02,\n",
       "         1.01113534e+00,  1.02076721e+00,  1.00769889e+00,  1.00602412e+00,\n",
       "         1.00798166e+00,  1.02352047e+00,  9.90012288e-01,  1.02267218e+00,\n",
       "         1.00245094e+00,  1.01494288e+00,  9.94542181e-01,  1.01130772e+00,\n",
       "         9.71399426e-01,  1.00439858e+00,  1.03708971e+00,  9.81001198e-01,\n",
       "         1.01805103e+00,  1.04083037e+00,  1.00433123e+00,  9.98167455e-01,\n",
       "         1.00307214e+00,  1.01873183e+00,  9.88563180e-01,  1.02915585e+00,\n",
       "         1.01366973e+00,  9.85235274e-01,  1.00058556e+00,  9.77631092e-01,\n",
       "         1.02565837e+00,  1.02291238e+00,  1.02384162e+00,  1.03263807e+00,\n",
       "         1.00408292e+00,  1.00787067e+00,  1.02591419e+00,  1.02447462e+00,\n",
       "         1.03907645e+00,  1.00520468e+00,  9.87549186e-01,  9.68529820e-01,\n",
       "         1.01729858e+00,  9.78442430e-01,  1.00925934e+00,  1.01538050e+00,\n",
       "         9.49244380e-01,  1.00785470e+00,  1.04448569e+00,  9.98628676e-01,\n",
       "         1.01450741e+00,  1.01618207e+00,  1.01189399e+00,  1.00544477e+00,\n",
       "         1.03326821e+00,  9.74893570e-01,  1.01892078e+00,  9.97415423e-01,\n",
       "         9.91182745e-01,  1.00479627e+00,  9.81061816e-01,  1.03264976e+00,\n",
       "         1.03834486e+00,  1.02349007e+00,  1.01554501e+00,  1.00919664e+00,\n",
       "        -2.69346428e-03,  3.64047056e-03, -5.11187874e-03,  3.58149759e-03,\n",
       "         3.21790576e-03, -5.09252213e-03,  4.99724085e-03, -7.52502913e-03,\n",
       "        -9.70112067e-03, -2.13823467e-03, -4.78261104e-03, -2.48104683e-03,\n",
       "         5.05984854e-03, -4.05326718e-03, -4.08411678e-03, -8.51367507e-03,\n",
       "        -1.56544591e-03, -4.76137036e-03,  1.84846314e-04, -6.48924382e-04,\n",
       "        -3.41277709e-03, -3.64356046e-03,  5.43026021e-03,  4.14520875e-03,\n",
       "        -2.83280993e-03,  6.27665641e-03, -4.15997580e-03, -3.27461027e-03,\n",
       "         1.09006641e-02, -2.28279154e-03,  3.71506927e-03,  1.23481883e-03,\n",
       "         8.49112216e-03, -1.37972189e-02,  8.12084787e-03, -8.37610336e-04,\n",
       "        -4.52295644e-04,  9.74576804e-04, -3.20446306e-05, -1.13069022e-03,\n",
       "         1.28510036e-03, -3.98345711e-03, -2.30335072e-03, -2.21453884e-04,\n",
       "        -2.43059942e-03,  2.40677176e-03, -8.35738319e-07, -5.74111147e-03,\n",
       "        -5.28329425e-03,  5.03051933e-03,  3.21483269e-04, -1.31428929e-03,\n",
       "         6.14208542e-03, -4.39920416e-03, -4.68384894e-03, -6.41811686e-03,\n",
       "         5.42598125e-03,  1.64177513e-03, -1.06706482e-03, -2.68295407e-03,\n",
       "         3.65731120e-03,  1.30898296e-03, -8.42721609e-04,  4.68832999e-03,\n",
       "         1.23451352e-02,  2.25016754e-02,  1.44111970e-03,  4.23593540e-03,\n",
       "         1.25224665e-02,  2.10523587e-02,  3.23054031e-03,  2.11030394e-02,\n",
       "         1.54707739e-02,  1.00003462e-02,  2.86938110e-03,  2.30129752e-02,\n",
       "        -2.95613259e-02,  1.46430386e-02,  3.13519612e-02, -1.33594917e-02,\n",
       "         1.27729075e-02,  3.85193415e-02,  1.05631072e-02,  1.95528870e-03,\n",
       "         5.50623285e-04,  1.26203205e-02, -1.21772494e-02,  2.24340912e-02,\n",
       "         8.97646323e-03, -1.54502541e-02, -2.84237671e-03, -1.56072276e-02,\n",
       "         3.10321227e-02,  2.69607529e-02,  2.01015249e-02,  2.52441037e-02,\n",
       "         1.40560139e-02,  1.26407789e-02,  2.64446866e-02,  1.28850713e-02,\n",
       "         3.37800868e-02,  2.25448026e-03, -9.94099677e-03, -2.21327227e-02,\n",
       "         1.55864684e-02, -2.24774983e-02,  2.84597185e-02,  1.33154830e-02,\n",
       "        -4.79018986e-02,  8.92182719e-03,  4.33550216e-02,  9.96476226e-03,\n",
       "         2.00860407e-02,  9.85901989e-03,  2.51252856e-02,  1.16429245e-02,\n",
       "         2.25032438e-02, -1.86666138e-02,  3.35024931e-02,  1.58121027e-02,\n",
       "        -1.47203980e-02, -1.13100286e-04, -1.43613452e-02,  2.71945391e-02,\n",
       "         2.79573910e-02,  1.70035791e-02,  1.06286444e-02,  1.64924227e-02],\n",
       "       dtype=float32),\n",
       " array([[ 0.26967794],\n",
       "        [-0.22987927],\n",
       "        [-0.09071236],\n",
       "        [-0.30408782],\n",
       "        [-0.21475875],\n",
       "        [ 0.3414109 ],\n",
       "        [ 0.33482465],\n",
       "        [ 0.25559407],\n",
       "        [ 0.288465  ],\n",
       "        [ 0.33503515],\n",
       "        [-0.21081936],\n",
       "        [ 0.31433   ],\n",
       "        [ 0.06193967],\n",
       "        [ 0.22296673],\n",
       "        [ 0.34376034],\n",
       "        [-0.15378696],\n",
       "        [-0.20573197],\n",
       "        [ 0.3499732 ],\n",
       "        [-0.29052636],\n",
       "        [ 0.17816967],\n",
       "        [ 0.09877145],\n",
       "        [ 0.22379413],\n",
       "        [-0.09680294],\n",
       "        [ 0.31585842],\n",
       "        [ 0.16477701],\n",
       "        [-0.16948226],\n",
       "        [-0.24514799],\n",
       "        [-0.21407929],\n",
       "        [-0.3089376 ],\n",
       "        [-0.35790205],\n",
       "        [ 0.3061002 ],\n",
       "        [-0.21969679],\n",
       "        [-0.24150741],\n",
       "        [-0.31010908],\n",
       "        [-0.27387094],\n",
       "        [ 0.25934583],\n",
       "        [ 0.3453772 ],\n",
       "        [ 0.281247  ],\n",
       "        [-0.13349907],\n",
       "        [-0.2633033 ],\n",
       "        [-0.3557511 ],\n",
       "        [-0.071647  ],\n",
       "        [-0.3454643 ],\n",
       "        [ 0.30356926],\n",
       "        [-0.01222381],\n",
       "        [ 0.20538665],\n",
       "        [-0.35338187],\n",
       "        [ 0.2788963 ],\n",
       "        [ 0.3209354 ],\n",
       "        [-0.19461481],\n",
       "        [-0.22784819],\n",
       "        [ 0.3312132 ],\n",
       "        [-0.2030236 ],\n",
       "        [-0.08992758],\n",
       "        [ 0.29572657],\n",
       "        [ 0.34916672],\n",
       "        [-0.10832197],\n",
       "        [ 0.13850623],\n",
       "        [-0.05089723],\n",
       "        [ 0.18399999],\n",
       "        [-0.14636825],\n",
       "        [-0.08966297],\n",
       "        [ 0.14586303],\n",
       "        [-0.2519898 ]], dtype=float32),\n",
       " array([0.00078519], dtype=float32)]"
      ]
     },
     "execution_count": 39,
     "metadata": {},
     "output_type": "execute_result"
    }
   ],
   "source": [
    "model.get_weights()"
   ]
  },
  {
   "cell_type": "code",
   "execution_count": 40,
   "metadata": {},
   "outputs": [],
   "source": [
    "# Step 2: Helper Functions\n",
    "# Function to decode reviews\n",
    "def decode_review(encoded_review):\n",
    "    return ' '.join([reverse_word_index.get(i - 3, '?') for i in encoded_review])\n",
    "\n",
    "# Function to preprocess user input\n",
    "def preprocess_text(text):\n",
    "    words = text.lower().split()\n",
    "    encoded_review = [word_index.get(word, 2) + 3 for word in words]\n",
    "    padded_review = sequence.pad_sequences([encoded_review], maxlen=200)\n",
    "    return padded_review"
   ]
  },
  {
   "cell_type": "code",
   "execution_count": 41,
   "metadata": {},
   "outputs": [],
   "source": [
    "### Prediction  function\n",
    "\n",
    "def predict_sentiment(review):\n",
    "    preprocessed_input=preprocess_text(review)\n",
    "\n",
    "    prediction=model.predict(preprocessed_input)\n",
    "\n",
    "    sentiment = 'Positive' if prediction[0][0] > 0.5 else 'Negative'\n",
    "    \n",
    "    return sentiment, prediction[0][0]\n",
    "\n"
   ]
  },
  {
   "cell_type": "code",
   "execution_count": 42,
   "metadata": {},
   "outputs": [
    {
     "name": "stdout",
     "output_type": "stream",
     "text": [
      "\u001b[1m1/1\u001b[0m \u001b[32m━━━━━━━━━━━━━━━━━━━━\u001b[0m\u001b[37m\u001b[0m \u001b[1m0s\u001b[0m 185ms/step\n",
      "Review: I didn't like some part of movie.\n",
      "Sentiment: Negative\n",
      "Prediction Score: 0.41940128803253174\n"
     ]
    }
   ],
   "source": [
    "# Step 4: User Input and Prediction\n",
    "# Example review for prediction\n",
    "example_review = \"I didn't like some part of movie.\"\n",
    "\n",
    "sentiment,score=predict_sentiment(example_review)\n",
    "\n",
    "print(f'Review: {example_review}')\n",
    "print(f'Sentiment: {sentiment}')\n",
    "print(f'Prediction Score: {score}')"
   ]
  },
  {
   "cell_type": "code",
   "execution_count": null,
   "metadata": {},
   "outputs": [],
   "source": []
  },
  {
   "cell_type": "code",
   "execution_count": null,
   "metadata": {},
   "outputs": [],
   "source": []
  },
  {
   "cell_type": "code",
   "execution_count": null,
   "metadata": {},
   "outputs": [],
   "source": []
  },
  {
   "cell_type": "code",
   "execution_count": null,
   "metadata": {},
   "outputs": [],
   "source": []
  }
 ],
 "metadata": {
  "kernelspec": {
   "display_name": "Python 3",
   "language": "python",
   "name": "python3"
  },
  "language_info": {
   "codemirror_mode": {
    "name": "ipython",
    "version": 3
   },
   "file_extension": ".py",
   "mimetype": "text/x-python",
   "name": "python",
   "nbconvert_exporter": "python",
   "pygments_lexer": "ipython3",
   "version": "3.11.0"
  }
 },
 "nbformat": 4,
 "nbformat_minor": 2
}
